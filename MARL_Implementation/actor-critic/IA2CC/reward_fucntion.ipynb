{
 "cells": [
  {
   "cell_type": "code",
   "execution_count": 1,
   "id": "187502f4",
   "metadata": {},
   "outputs": [],
   "source": [
    "from environment import MultiAgentGridEnv\n",
    "from learner import train, evaluate\n",
    "from utils import running_average, display_plot, save_reward, save_model\n",
    "import time"
   ]
  },
  {
   "cell_type": "code",
   "execution_count": 2,
   "id": "8c5003b3",
   "metadata": {},
   "outputs": [],
   "source": [
    "grid_file = 'grid_world.json'"
   ]
  },
  {
   "cell_type": "markdown",
   "id": "9dc98f34",
   "metadata": {},
   "source": [
    "# Reward function [1]\n",
    "\n",
    "`reward = total_area - overlap_penalty - sensor_penalty - energy_penalty`"
   ]
  },
  {
   "cell_type": "markdown",
   "id": "77e55a70",
   "metadata": {},
   "source": [
    "## Configuration 1"
   ]
  },
  {
   "cell_type": "markdown",
   "id": "5e2ab2a6",
   "metadata": {},
   "source": [
    "## Configuration 2"
   ]
  },
  {
   "cell_type": "markdown",
   "id": "1e11cff5",
   "metadata": {},
   "source": [
    "## Configuration 3"
   ]
  },
  {
   "cell_type": "markdown",
   "id": "347c0eb1",
   "metadata": {},
   "source": [
    "## Configuration 4"
   ]
  },
  {
   "cell_type": "markdown",
   "id": "d7554282",
   "metadata": {},
   "source": [
    "# Reward function [2]\n",
    "\n",
    "`reward = (total_area - overlap_penalty)/energy_penalty`"
   ]
  },
  {
   "cell_type": "markdown",
   "id": "65865d8e",
   "metadata": {},
   "source": [
    "# Reward function [3]\n",
    "\n",
    "`reward = (total_area - overlap_penalty)/energy_penalty  - energy_penalty`"
   ]
  },
  {
   "cell_type": "markdown",
   "id": "406573b4",
   "metadata": {},
   "source": []
  }
 ],
 "metadata": {
  "kernelspec": {
   "display_name": "venv",
   "language": "python",
   "name": "python3"
  },
  "language_info": {
   "codemirror_mode": {
    "name": "ipython",
    "version": 3
   },
   "file_extension": ".py",
   "mimetype": "text/x-python",
   "name": "python",
   "nbconvert_exporter": "python",
   "pygments_lexer": "ipython3",
   "version": "3.12.4"
  }
 },
 "nbformat": 4,
 "nbformat_minor": 5
}
