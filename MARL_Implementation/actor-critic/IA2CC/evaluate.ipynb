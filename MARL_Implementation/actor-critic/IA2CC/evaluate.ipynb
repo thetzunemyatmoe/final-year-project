{
 "cells": [
  {
   "cell_type": "code",
   "execution_count": 1,
   "id": "8a4eee03",
   "metadata": {},
   "outputs": [],
   "source": [
    "from environment import MultiAgentGridEnv\n",
    "from learner import train, evaluate\n",
    "from utils import running_average, display_plot, save_reward, save_model\n",
    "import time"
   ]
  },
  {
   "cell_type": "code",
   "execution_count": 21,
   "id": "2489f2b9",
   "metadata": {},
   "outputs": [],
   "source": [
    "grid_file = 'grid_world.json'"
   ]
  },
  {
   "cell_type": "markdown",
   "id": "5a71f6a7",
   "metadata": {},
   "source": [
    "# ENTROPY REGULARIZATION WEIGHT (BETA) - {0.1, 0.05, 0.01}"
   ]
  },
  {
   "cell_type": "code",
   "execution_count": 22,
   "id": "8906c2c7",
   "metadata": {},
   "outputs": [],
   "source": [
    "rewards_list = []\n",
    "agents_list = []\n",
    "episodes_list = []\n",
    "beta_list = [0.1, 0.05, 0.01]"
   ]
  },
  {
   "cell_type": "code",
   "execution_count": 23,
   "id": "a7bc8b01",
   "metadata": {},
   "outputs": [
    {
     "name": "stdout",
     "output_type": "stream",
     "text": [
      "Episode 0 return: -1109.00\n",
      "Episode 1000 return: 4810.00\n",
      "Episode 2000 return: 2458.00\n",
      "Episode 3000 return: 3897.00\n",
      "Episode 4000 return: 9067.00\n",
      "---------------------------------\n",
      "Episode 0 return: -4062.00\n",
      "Episode 1000 return: 2930.00\n",
      "Episode 2000 return: 11795.00\n",
      "Episode 3000 return: 11751.00\n",
      "Episode 4000 return: 8473.00\n",
      "---------------------------------\n",
      "Episode 0 return: -5727.00\n",
      "Episode 1000 return: 8962.00\n",
      "Episode 2000 return: 11575.00\n",
      "Episode 3000 return: 12167.00\n",
      "Episode 4000 return: 11609.00\n",
      "---------------------------------\n"
     ]
    }
   ],
   "source": [
    "for beta in beta_list:\n",
    "    agent, rewards, episodes = train(max_episode=5000, entropy_weight=beta)\n",
    "    agents_list.append(agent)\n",
    "    rewards_list.append(rewards)\n",
    "    episodes_list.append(episodes)\n",
    "    time.sleep(240)\n",
    "    print('---------------------------------')"
   ]
  },
  {
   "cell_type": "code",
   "execution_count": null,
   "id": "3b2f8362",
   "metadata": {},
   "outputs": [
    {
     "ename": "NameError",
     "evalue": "name 'display_plot' is not defined",
     "output_type": "error",
     "traceback": [
      "\u001b[31m---------------------------------------------------------------------------\u001b[39m",
      "\u001b[31mNameError\u001b[39m                                 Traceback (most recent call last)",
      "\u001b[36mCell\u001b[39m\u001b[36m \u001b[39m\u001b[32mIn[1]\u001b[39m\u001b[32m, line 1\u001b[39m\n\u001b[32m----> \u001b[39m\u001b[32m1\u001b[39m \u001b[43mdisplay_plot\u001b[49m(rewards_list, episodes_list, [\u001b[33m'\u001b[39m\u001b[33m0.1\u001b[39m\u001b[33m'\u001b[39m, \u001b[33m'\u001b[39m\u001b[33m0.05\u001b[39m\u001b[33m'\u001b[39m, \u001b[33m'\u001b[39m\u001b[33m0.01\u001b[39m\u001b[33m'\u001b[39m], \u001b[33m'\u001b[39m\u001b[33mEntropy\u001b[39m\u001b[33m'\u001b[39m, save=\u001b[38;5;28;01mTrue\u001b[39;00m)\n",
      "\u001b[31mNameError\u001b[39m: name 'display_plot' is not defined"
     ]
    }
   ],
   "source": [
    "display_plot(rewards_list, episodes_list, [\n",
    "             '0.1', '0.05', '0.01'], 'Entropy', save=True)"
   ]
  },
  {
   "cell_type": "code",
   "execution_count": null,
   "id": "e63e1ecd",
   "metadata": {},
   "outputs": [],
   "source": []
  },
  {
   "cell_type": "code",
   "execution_count": null,
   "id": "cb90e807",
   "metadata": {},
   "outputs": [
    {
     "name": "stdout",
     "output_type": "stream",
     "text": [
      "108\n"
     ]
    },
    {
     "ename": "",
     "evalue": "",
     "output_type": "error",
     "traceback": [
      "\u001b[1;31mnotebook controller is DISPOSED. \n",
      "\u001b[1;31mView Jupyter <a href='command:jupyter.viewOutput'>log</a> for further details."
     ]
    },
    {
     "ename": "",
     "evalue": "",
     "output_type": "error",
     "traceback": [
      "\u001b[1;31mnotebook controller is DISPOSED. \n",
      "\u001b[1;31mView Jupyter <a href='command:jupyter.viewOutput'>log</a> for further details."
     ]
    }
   ],
   "source": [
    "ciritic_leaning_rates = [0.001, 0.005, 0.009]\n",
    "actor_leaning_rates = [0.01, 0.05, 0.09]\n",
    "entropy_weights = [0.01, 0.05, 0.1, 0.02]\n",
    "gammas = [0.99, 1.00, 0.5]\n",
    "\n",
    "config = []\n",
    "for critic_learning_rate in ciritic_leaning_rates:\n",
    "    for actor_learning_rate in actor_leaning_rates:\n",
    "        for entropy_weight in entropy_weights:\n",
    "            for gamma in gammas:\n",
    "                config.append(\n",
    "                    (critic_learning_rate, actor_learning_rate, entropy_weight, gamma))\n",
    "\n",
    "\n",
    "print(len(config))"
   ]
  },
  {
   "cell_type": "code",
   "execution_count": 4,
   "id": "384059d6",
   "metadata": {},
   "outputs": [],
   "source": [
    "rewards = [1, 2, 3, 4]\n",
    "save_reward('reward/hello.txt', rewards=rewards)"
   ]
  },
  {
   "cell_type": "code",
   "execution_count": null,
   "id": "b3b7eaa9",
   "metadata": {},
   "outputs": [],
   "source": []
  }
 ],
 "metadata": {
  "kernelspec": {
   "display_name": "Python (../venv)",
   "language": "python",
   "name": "venv"
  },
  "language_info": {
   "codemirror_mode": {
    "name": "ipython",
    "version": 3
   },
   "file_extension": ".py",
   "mimetype": "text/x-python",
   "name": "python",
   "nbconvert_exporter": "python",
   "pygments_lexer": "ipython3",
   "version": "3.12.4"
  }
 },
 "nbformat": 4,
 "nbformat_minor": 5
}
