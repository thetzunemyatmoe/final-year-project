{
 "cells": [
  {
   "cell_type": "code",
   "execution_count": 1,
   "id": "cbb727f7",
   "metadata": {},
   "outputs": [],
   "source": [
    "import time\n",
    "from utils import display_plot, save_reward\n",
    "from learner import train\n",
    "from environment import MultiAgentGridEnv"
   ]
  },
  {
   "cell_type": "code",
   "execution_count": 2,
   "id": "3451a75c",
   "metadata": {},
   "outputs": [
    {
     "name": "stdout",
     "output_type": "stream",
     "text": [
      "[(0.0001, 0.0001, 0.999, 0.01), (0.0001, 0.0001, 0.999, 0.05), (0.0001, 0.0003, 0.999, 0.01), (0.0001, 0.0003, 0.999, 0.05), (0.0001, 0.001, 0.999, 0.01), (0.0001, 0.001, 0.999, 0.05)]\n"
     ]
    }
   ],
   "source": [
    "lrs = [\n",
    "    (0.0001, 0.0001),\n",
    "    (0.0001, 0.0003),\n",
    "    (0.0001, 0.001),\n",
    "]\n",
    "gamma = 0.999\n",
    "entropy_weights = [0.01, 0.05]\n",
    "\n",
    "hp_config = []\n",
    "\n",
    "for lr in lrs:\n",
    "    for entropy_weight in entropy_weights:\n",
    "        hp_config.append((lr[0], lr[1], gamma, entropy_weight))\n",
    "\n",
    "print(hp_config)"
   ]
  },
  {
   "cell_type": "code",
   "execution_count": 3,
   "id": "513e2697",
   "metadata": {},
   "outputs": [],
   "source": [
    "# Reward\n",
    "key1 = 'total area weight'\n",
    "key2 = 'overlap weight'\n",
    "key3 = 'energy weight'\n",
    "reward_weight = {key1: 2.0, key2: 1.0, key3: 0.0}"
   ]
  },
  {
   "cell_type": "code",
   "execution_count": 4,
   "id": "0c99ee7d",
   "metadata": {},
   "outputs": [],
   "source": [
    "rewards_list = []\n",
    "episodes_list = []\n",
    "names = []"
   ]
  },
  {
   "cell_type": "code",
   "execution_count": 5,
   "id": "85cae8cd",
   "metadata": {},
   "outputs": [
    {
     "name": "stdout",
     "output_type": "stream",
     "text": [
      "Episode 0 return: -27423.00\n",
      "Episode 1000 return: -2047.00\n",
      "Episode 2000 return: -297.00\n",
      "Episode 3000 return: 263.00\n",
      "Episode 4000 return: 306.00\n",
      "---------------------------------\n",
      "Episode 0 return: -29288.00\n",
      "Episode 1000 return: -1073.00\n",
      "Episode 2000 return: -17.00\n",
      "Episode 3000 return: 108.00\n",
      "Episode 4000 return: -1690.00\n",
      "---------------------------------\n",
      "Episode 0 return: -24168.00\n",
      "Episode 1000 return: -2764.00\n",
      "Episode 2000 return: -248.00\n",
      "Episode 3000 return: -67.00\n",
      "Episode 4000 return: 88.00\n",
      "---------------------------------\n",
      "Episode 0 return: -29016.00\n",
      "Episode 1000 return: -633.00\n",
      "Episode 2000 return: 282.00\n",
      "Episode 3000 return: -206.00\n",
      "Episode 4000 return: 265.00\n",
      "---------------------------------\n",
      "Episode 0 return: -25677.00\n",
      "Episode 1000 return: -384.00\n",
      "Episode 2000 return: -444.00\n",
      "Episode 3000 return: 254.00\n",
      "Episode 4000 return: 47.00\n",
      "---------------------------------\n",
      "Episode 0 return: -18366.00\n",
      "Episode 1000 return: -2189.00\n",
      "Episode 2000 return: 315.00\n",
      "Episode 3000 return: 421.00\n",
      "Episode 4000 return: 408.00\n",
      "---------------------------------\n"
     ]
    }
   ],
   "source": [
    "for index, config in enumerate(hp_config):\n",
    "    _, rewards, episodes = train(max_episode=5000, actor_lr=config[0],\n",
    "                                 critic_lr=config[1], gamma=config[2], entropy_weight=config[3], reward_weight=reward_weight, path=f'rewardweight5/config{index}')\n",
    "    rewards_list.append(rewards)\n",
    "    episodes_list.append(episodes)\n",
    "    names.append(f'config{index}')\n",
    "\n",
    "    save_reward(\n",
    "        f'reward/rewardweight5/config{index}/reward.txt', rewards=rewards)\n",
    "    time.sleep(120)\n",
    "    print('---------------------------------')"
   ]
  },
  {
   "cell_type": "code",
   "execution_count": 6,
   "id": "08177696",
   "metadata": {},
   "outputs": [
    {
     "name": "stdout",
     "output_type": "stream",
     "text": [
      "Plot saved\n"
     ]
    },
    {
     "name": "stderr",
     "output_type": "stream",
     "text": [
      "/Users/thetzunemyatmoe/Desktop/Artificial Intelligence And Computer Science/Year 3/Final Year Project/code/MARL_Implementation/actor-critic/IA2CC/utils.py:64: UserWarning: FigureCanvasAgg is non-interactive, and thus cannot be shown\n",
      "  plt.show()\n"
     ]
    }
   ],
   "source": [
    "display_plot(rewards_list=rewards_list, episodes_list=episodes_list, names=names,\n",
    "             plot_title='Graph', filename='reward_trendRW5', save=True)"
   ]
  }
 ],
 "metadata": {
  "kernelspec": {
   "display_name": "venv",
   "language": "python",
   "name": "python3"
  },
  "language_info": {
   "codemirror_mode": {
    "name": "ipython",
    "version": 3
   },
   "file_extension": ".py",
   "mimetype": "text/x-python",
   "name": "python",
   "nbconvert_exporter": "python",
   "pygments_lexer": "ipython3",
   "version": "3.12.4"
  }
 },
 "nbformat": 4,
 "nbformat_minor": 5
}
