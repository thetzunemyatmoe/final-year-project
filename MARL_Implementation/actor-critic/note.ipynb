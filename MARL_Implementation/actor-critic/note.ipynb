{
 "cells": [
  {
   "cell_type": "markdown",
   "metadata": {},
   "source": [
    "### Accessing state\n",
    "- `env.reset()` or `env.step()` returns the global state.\n",
    "- gloabl state is the array of length of number of agents.\n",
    "- each element in the global state array represents the partial observation of each agent\n",
    "- `state = env.reset()`\n",
    "- `state, rewards, done, actions = env.step(actions)`"
   ]
  },
  {
   "cell_type": "markdown",
   "metadata": {},
   "source": [
    "### Actions\n",
    "- 0 - Right\n",
    "- 1 - Left\n",
    "- 2 - Down\n",
    "- 3 - Left\n",
    "- Otherwise - Hover"
   ]
  },
  {
   "cell_type": "markdown",
   "metadata": {},
   "source": []
  }
 ],
 "metadata": {
  "language_info": {
   "name": "python"
  }
 },
 "nbformat": 4,
 "nbformat_minor": 2
}
